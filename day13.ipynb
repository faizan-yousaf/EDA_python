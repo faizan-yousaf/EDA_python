{
 "cells": [
  {
   "cell_type": "markdown",
   "metadata": {},
   "source": [
    "### scored 84% in the very first attempt of EDA quiz:"
   ]
  },
  {
   "cell_type": "markdown",
   "metadata": {},
   "source": [
    "## **Automation in EDA:**\n",
    "pandas profiling: ['pandas_profiling'](https://pypi.org/project/pandas-profiling/)\\\n",
    "install using : `pip install ydata-profiling`"
   ]
  },
  {
   "cell_type": "markdown",
   "metadata": {},
   "source": [
    "#### *Assignment: Discover atleat 5,6 liraries which we can use for Automated Exploratory Data Analysis (EDA)*"
   ]
  },
  {
   "cell_type": "markdown",
   "metadata": {},
   "source": [
    "`Pandas Profiling`: This library generates a comprehensive HTML report with statistical summaries, visualizations, and correlations for your dataset.\n",
    "\n",
    "Documentation: https://pandas-profiling.github.io/pandas-profiling/docs/\n",
    "\n",
    "\n",
    "`AutoViz`: AutoViz automatically visualizes your dataset using a single line of code, generating a wide range of charts and plots.\n",
    "\n",
    "Documentation: https://github.com/AutoViML/AutoViz\n",
    "\n",
    "\n",
    "`Sweetviz`: Sweetviz creates beautiful, high-density visualizations and summary reports for your data, including comparisons between target variables.\n",
    "\n",
    "Documentation: https://github.com/fbdesignpro/sweetviz\n",
    "\n",
    "\n",
    "`DataPrep`: DataPrep provides a set of functions for data cleaning, preprocessing, and EDA, making it easier to analyze and visualize your data.\n",
    "\n",
    "Documentation: https://docs.dataprep.ai/\n",
    "\n",
    "`D-Tale`: D-Tale is a web-based tool that offers interactive data exploration capabilities, allowing you to visualize and analyze your data easily.\n",
    "\n",
    "Documentation: https://github.com/man-group/dtale\n",
    "\n",
    "`Autovizwidget`: Autovizwidget is an interactive Jupyter widget that automatically visualizes your Pandas DataFrame with minimal configuration.\n",
    "\n",
    "Documentation: https://github.com/AutoViML/autovizwidget\n",
    "\n",
    "`dtreeviz`: dtreeviz is a library for visualizing decision trees and random forests, providing intuitive and informative visualizations.\n",
    "\n",
    "Documentation: https://github.com/parrt/dtreeviz\n",
    "\n",
    "`Lux`: Lux is a library for enhancing Pandas DataFrame exploration by providing intuitive visualizations and intelligent data recommendations.\n",
    "\n",
    "Documentation: https://github.com/lux-org/lux\n",
    "\n",
    "`HiPlot`: HiPlot is a visualization tool for high-dimensional data, enabling interactive exploration and analysis of complex datasets.\n",
    "\n",
    "Documentation: https://facebookresearch.github.io/hiplot/\n",
    "\n",
    "`ExploriPy`: ExploriPy is a Python library that automates EDA by providing statistical summaries, interactive visualizations, and anomaly detection.\n",
    "\n",
    "Documentation: https://github.com/lukehb/ExploriPy"
   ]
  },
  {
   "cell_type": "markdown",
   "metadata": {},
   "source": []
  }
 ],
 "metadata": {
  "kernelspec": {
   "display_name": "python_ml",
   "language": "python",
   "name": "python3"
  },
  "language_info": {
   "codemirror_mode": {
    "name": "ipython",
    "version": 3
   },
   "file_extension": ".py",
   "mimetype": "text/x-python",
   "name": "python",
   "nbconvert_exporter": "python",
   "pygments_lexer": "ipython3",
   "version": "3.11.8"
  }
 },
 "nbformat": 4,
 "nbformat_minor": 2
}
