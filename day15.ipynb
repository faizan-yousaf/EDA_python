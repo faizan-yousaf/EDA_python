{
 "cells": [
  {
   "cell_type": "markdown",
   "metadata": {},
   "source": [
    "## **Assignment: Read about EDA and Missing values.**"
   ]
  },
  {
   "cell_type": "markdown",
   "metadata": {},
   "source": [
    "#### --> *Exploratory Data Analysis (EDA) is essential in data science and analytics for several reasons:*\n",
    "\n",
    "1. **Understanding the Data**: EDA helps in understanding the structure, relationships, and patterns within the dataset. It allows you to grasp the characteristics of the data before applying any models or making conclusions.\n",
    "\n",
    "2. **Identifying Patterns and Trends**: EDA helps in identifying patterns, trends, and anomalies within the data, which can provide valuable insights for decision-making.\n",
    "\n",
    "3. **Data Cleaning and Preprocessing**: EDA often reveals missing values, outliers, or inconsistencies in the data, which need to be addressed before further analysis. It helps in deciding how to handle these issues effectively.\n",
    "\n",
    "4. **Feature Selection**: EDA aids in selecting the most relevant features for modeling by identifying which variables are most important or have the most significant impact on the target variable.\n",
    "\n",
    "5. **Model Assumptions**: EDA assists in validating assumptions required for various statistical models. For example, it helps in checking if the data meets the assumptions of linear regression or normality assumptions for certain tests.\n",
    "\n",
    "6. **Communication**: EDA helps in communicating findings and insights to stakeholders effectively. Visualizations and summaries generated during EDA make it easier for non-technical audiences to understand the data.\n",
    "\n",
    "####  --> *Regarding missing values:*\n",
    "\n",
    "Missing values are simply the absence of data for certain observations or variables in a dataset. They can occur for various reasons such as data entry errors, equipment malfunction, or intentional non-response in surveys.\n",
    "\n",
    "The issues with missing values include:\n",
    "\n",
    "1. **Bias**: Missing data can lead to biased results if not handled properly. For example, if certain demographic groups are more likely to have missing values, it can bias any analysis involving those variables.\n",
    "\n",
    "2. **Reduced Power**: Missing data can reduce the statistical power of analyses, making it harder to detect true effects or relationships.\n",
    "\n",
    "3. **Inaccurate Imputation**: Imputing missing values without careful consideration can introduce inaccuracies or distortions into the data.\n",
    "\n",
    "To deal with missing values, various techniques can be applied:\n",
    "\n",
    "1. **Deletion**: Remove observations or variables with missing values. This is often done if the missingness is random and not likely to introduce bias.\n",
    "\n",
    "2. **Imputation**: Estimate the missing values based on other observed data. This can be done using statistical methods such as mean imputation, regression imputation, or advanced techniques like k-nearest neighbors (KNN) imputation.\n",
    "\n",
    "3. **Model-based Methods**: Use models that can handle missing data directly, such as certain machine learning algorithms or multiple imputation methods.\n",
    "\n",
    "The choice of method depends on the nature of the missing data, the analysis goals, and the assumptions underlying the chosen method. It's essential to carefully consider the implications of missing data and choose the most appropriate method for handling them."
   ]
  },
  {
   "cell_type": "markdown",
   "metadata": {},
   "source": []
  }
 ],
 "metadata": {
  "language_info": {
   "name": "python"
  }
 },
 "nbformat": 4,
 "nbformat_minor": 2
}
